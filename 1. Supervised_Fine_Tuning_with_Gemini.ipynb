{
  "nbformat": 4,
  "nbformat_minor": 0,
  "metadata": {
    "colab": {
      "provenance": []
    },
    "kernelspec": {
      "name": "python3",
      "display_name": "Python 3"
    },
    "language_info": {
      "name": "python"
    }
  },
  "cells": [
    {
      "cell_type": "markdown",
      "source": [
        "The following table shows the recommended configurations for tuning a foundation model by task:\n",
        "\n",
        "| Task             | No. of examples in dataset | Number of epochs |\n",
        "|------------------|----------------------------|------------------|\n",
        "| Classification   | 500+                        | 2-4              |\n",
        "| Summarization    | 1000+                       | 2-4              |\n",
        "| Extractive QA    | 500+                        | 2-4              |\n",
        "| Chat             | 1000+                       | 2-4              |"
      ],
      "metadata": {
        "id": "L1B31n3hZcgc"
      }
    },
    {
      "cell_type": "markdown",
      "source": [
        "# **1. Setup**"
      ],
      "metadata": {
        "id": "tshN4nUkaQIg"
      }
    },
    {
      "cell_type": "code",
      "execution_count": 1,
      "metadata": {
        "colab": {
          "base_uri": "https://localhost:8080/"
        },
        "id": "qxZDLUiXXGtn",
        "outputId": "52b6604d-e8b9-4868-e7bc-8b8eacf645cc"
      },
      "outputs": [
        {
          "output_type": "stream",
          "name": "stdout",
          "text": [
            "Authenticated\n"
          ]
        }
      ],
      "source": [
        "from google.colab import auth\n",
        "auth.authenticate_user()\n",
        "print('Authenticated')"
      ]
    },
    {
      "cell_type": "code",
      "source": [
        "from google.auth import default\n",
        "CREDENTIALS, PROJECT_ID= default()"
      ],
      "metadata": {
        "id": "IrtgLpSUacyD"
      },
      "execution_count": 2,
      "outputs": []
    },
    {
      "cell_type": "code",
      "source": [
        "PROJECT_ID= \"basic-pipeline-435315\"\n",
        "REGION= \"us-central1\"\n",
        "\n",
        "BUCKET_URI= \"gs://starborn-1/\"\n",
        "! gsutil ls -al $BUCKET_URI"
      ],
      "metadata": {
        "colab": {
          "base_uri": "https://localhost:8080/"
        },
        "id": "qoYj_wGDauoC",
        "outputId": "6605d407-9c22-4117-9147-832cc63b1425"
      },
      "execution_count": 3,
      "outputs": [
        {
          "output_type": "stream",
          "name": "stdout",
          "text": [
            "                                 gs://starborn-1/Stackoverflow_dataset/\n"
          ]
        }
      ]
    },
    {
      "cell_type": "code",
      "source": [
        "import vertexai\n",
        "from vertexai.generative_models import GenerativeModel\n",
        "from vertexai.preview.tuning import sft\n",
        "vertexai.init(project=PROJECT_ID, location=REGION)\n",
        "\n",
        "from google.cloud import bigquery\n",
        "bq_client= bigquery.Client(project=PROJECT_ID, credentials=CREDENTIALS)\n",
        "\n",
        "import pandas as pd\n",
        "from sklearn.model_selection import train_test_split"
      ],
      "metadata": {
        "id": "Lu_TOgg7a2R0"
      },
      "execution_count": 4,
      "outputs": []
    },
    {
      "cell_type": "markdown",
      "source": [
        "# **2. Supervised fine tuning with Gemini on a question and answer dataset**\n",
        "\n",
        "How to ensure the our data is primed for success with supervised tuning?\n",
        "\n",
        "Here's a breakdown of critical areas to focus on:\n",
        "\n",
        "- Domain Alignment: Supervised fine-tuning thrives on smaller datasets, but they must be highly relevant to our downstream task. Seek out data that closely mirrors the domain we will encounter in real-world use cases.\n",
        "- Labeling Accuracy: Noisy labels will sabotage even the best technique. Prioritize accuracy in our annotations and labeling.\n",
        "- Noise Reduction: Outliers, inconsistencies, or irrelevant examples hurt model adaptation. Implement preprocessing, such as removing duplicates, fixing typos, and verifying that data conforms to our task's expectations.\n",
        "- Distribution: A diverse range of examples will help our model generalize better within the confines of our target task. Refrain from overloading the process with excessive variance that strays from our core domain.\n",
        "- Balanced Classes: For classification tasks, try to keep a reasonable balance between different classes to avoid the model learning biases towards a specific class."
      ],
      "metadata": {
        "id": "E_WIEyzidnWA"
      }
    },
    {
      "cell_type": "code",
      "source": [
        "from typing import Union\n",
        "from pprint import pprint"
      ],
      "metadata": {
        "id": "jTliXBQ0CJTF"
      },
      "execution_count": 6,
      "outputs": []
    },
    {
      "cell_type": "markdown",
      "source": [
        "\n",
        "\n",
        "---\n",
        "\n",
        "\n",
        "**1. Fetchin data from big query**\n",
        "\n",
        "Our model tuning dataset must be in a JSONL format where each line contains a single training example. We must make sure that we include instructions.\n",
        "\n",
        "\n",
        "---\n",
        "\n"
      ],
      "metadata": {
        "id": "iUo5VcUxBN-U"
      }
    },
    {
      "cell_type": "code",
      "source": [
        "def run_bq_query(sql: str) -> Union[str, pd.DataFrame]:\n",
        "  \"\"\"\n",
        "  Runs a bigquery query and returns the jobID or dataframe of the results.\n",
        "  Args:\n",
        "    sql: SQL query, as a string, to execute in big query.\n",
        "  Returns:\n",
        "    df: DataFrame of the query results or error if any.\n",
        "  \"\"\"\n",
        "  # Dry run to check if any errors\n",
        "  job_config= bigquery.QueryJobConfig(dry_run=True, use_query_cache=False)\n",
        "  bq_client.query(sql, job_config=job_config)\n",
        "\n",
        "  # If dry run succeeds, proceed\n",
        "  job_config= bigquery.QueryJobConfig()\n",
        "  client_result= bq_client.query(sql, job_config=job_config)\n",
        "\n",
        "  job_id= client_result.job_id\n",
        "\n",
        "  df= client_result.result().to_arrow().to_pandas()\n",
        "  print(\"Finished job_id: \", job_id)\n",
        "\n",
        "  return df"
      ],
      "metadata": {
        "id": "jcT2OaW3dLdz"
      },
      "execution_count": 20,
      "outputs": []
    },
    {
      "cell_type": "code",
      "source": [
        "stack_overflow_df= run_bq_query(sql=\n",
        "    \"\"\"\n",
        "    SELECT\n",
        "      CONCAT (que.title, que.body) AS input_text,\n",
        "      ans.body AS output_text\n",
        "    FROM `bigquery-public-data.stackoverflow.posts_questions` que\n",
        "    JOIN `bigquery-public-data.stackoverflow.posts_answers` ans\n",
        "      ON que.accepted_answer_id= ans.id\n",
        "    WHERE\n",
        "      que.accepted_answer_id IS NOT NULL\n",
        "      AND REGEXP_CONTAINS(que.tags, \"python\")\n",
        "      AND ans.creation_date >= \"2020-01-01\"\n",
        "    LIMIT 600\n",
        "    \"\"\"\n",
        ")"
      ],
      "metadata": {
        "colab": {
          "base_uri": "https://localhost:8080/"
        },
        "id": "BhqIxYyLFZZK",
        "outputId": "7d284d72-76a0-4d73-fb86-82dc2fb6c838"
      },
      "execution_count": 30,
      "outputs": [
        {
          "output_type": "stream",
          "name": "stdout",
          "text": [
            "Finished job_id:  4a2c8545-8bd0-4e62-bf00-7db3b26bb826\n"
          ]
        }
      ]
    },
    {
      "cell_type": "code",
      "source": [
        "print(len(stack_overflow_df))"
      ],
      "metadata": {
        "colab": {
          "base_uri": "https://localhost:8080/"
        },
        "id": "CQy29ijlGm3-",
        "outputId": "c29e5121-663d-40af-9868-766257f44be3"
      },
      "execution_count": 31,
      "outputs": [
        {
          "output_type": "stream",
          "name": "stdout",
          "text": [
            "600\n"
          ]
        }
      ]
    },
    {
      "cell_type": "markdown",
      "source": [
        "\n",
        "\n",
        "---\n",
        "\n",
        "\n",
        "**2. Adding instructions**\n",
        "\n",
        "Finetuning language models on a collection of datasets phrased as instructions have been shown to improve model performance and generalization to unseen tasks.\n",
        "\n",
        "\n",
        "---\n",
        "\n"
      ],
      "metadata": {
        "id": "m1ECM7O1IJX-"
      }
    },
    {
      "cell_type": "code",
      "source": [
        "INSTRUCTION_TEMPLATE=\"\"\"\n",
        "You are a helpful Python developer \\\n",
        "You are good at answering StackOverflow questions \\\n",
        "Your mission is to provide developers with helpful answers that work\n",
        "\"\"\""
      ],
      "metadata": {
        "id": "jiNe90SOIGYu"
      },
      "execution_count": 32,
      "outputs": []
    },
    {
      "cell_type": "code",
      "source": [
        "stack_overflow_df[\"input_text_instruct\"]= INSTRUCTION_TEMPLATE\n",
        "stack_overflow_df.head(2)"
      ],
      "metadata": {
        "colab": {
          "base_uri": "https://localhost:8080/",
          "height": 112
        },
        "id": "LNRfSbeLJB3e",
        "outputId": "f5aa0f70-b16f-4d7f-cb51-8f8d998d7598"
      },
      "execution_count": 33,
      "outputs": [
        {
          "output_type": "execute_result",
          "data": {
            "text/plain": [
              "                                          input_text  \\\n",
              "0  AttributeError with extended class in Python<p...   \n",
              "1  Annotation bug coercing string to float<p>I've...   \n",
              "\n",
              "                                         output_text  \\\n",
              "0  <p>I do not know much about the <code>derivati...   \n",
              "1  <p>you need to comment out the <code>y=[...]</...   \n",
              "\n",
              "                                 input_text_instruct  \n",
              "0  \\nYou are a helpful Python developer You are g...  \n",
              "1  \\nYou are a helpful Python developer You are g...  "
            ],
            "text/html": [
              "\n",
              "  <div id=\"df-514d6538-89ed-48df-9a96-3450ccc5a3a5\" class=\"colab-df-container\">\n",
              "    <div>\n",
              "<style scoped>\n",
              "    .dataframe tbody tr th:only-of-type {\n",
              "        vertical-align: middle;\n",
              "    }\n",
              "\n",
              "    .dataframe tbody tr th {\n",
              "        vertical-align: top;\n",
              "    }\n",
              "\n",
              "    .dataframe thead th {\n",
              "        text-align: right;\n",
              "    }\n",
              "</style>\n",
              "<table border=\"1\" class=\"dataframe\">\n",
              "  <thead>\n",
              "    <tr style=\"text-align: right;\">\n",
              "      <th></th>\n",
              "      <th>input_text</th>\n",
              "      <th>output_text</th>\n",
              "      <th>input_text_instruct</th>\n",
              "    </tr>\n",
              "  </thead>\n",
              "  <tbody>\n",
              "    <tr>\n",
              "      <th>0</th>\n",
              "      <td>AttributeError with extended class in Python&lt;p...</td>\n",
              "      <td>&lt;p&gt;I do not know much about the &lt;code&gt;derivati...</td>\n",
              "      <td>\\nYou are a helpful Python developer You are g...</td>\n",
              "    </tr>\n",
              "    <tr>\n",
              "      <th>1</th>\n",
              "      <td>Annotation bug coercing string to float&lt;p&gt;I've...</td>\n",
              "      <td>&lt;p&gt;you need to comment out the &lt;code&gt;y=[...]&lt;/...</td>\n",
              "      <td>\\nYou are a helpful Python developer You are g...</td>\n",
              "    </tr>\n",
              "  </tbody>\n",
              "</table>\n",
              "</div>\n",
              "    <div class=\"colab-df-buttons\">\n",
              "\n",
              "  <div class=\"colab-df-container\">\n",
              "    <button class=\"colab-df-convert\" onclick=\"convertToInteractive('df-514d6538-89ed-48df-9a96-3450ccc5a3a5')\"\n",
              "            title=\"Convert this dataframe to an interactive table.\"\n",
              "            style=\"display:none;\">\n",
              "\n",
              "  <svg xmlns=\"http://www.w3.org/2000/svg\" height=\"24px\" viewBox=\"0 -960 960 960\">\n",
              "    <path d=\"M120-120v-720h720v720H120Zm60-500h600v-160H180v160Zm220 220h160v-160H400v160Zm0 220h160v-160H400v160ZM180-400h160v-160H180v160Zm440 0h160v-160H620v160ZM180-180h160v-160H180v160Zm440 0h160v-160H620v160Z\"/>\n",
              "  </svg>\n",
              "    </button>\n",
              "\n",
              "  <style>\n",
              "    .colab-df-container {\n",
              "      display:flex;\n",
              "      gap: 12px;\n",
              "    }\n",
              "\n",
              "    .colab-df-convert {\n",
              "      background-color: #E8F0FE;\n",
              "      border: none;\n",
              "      border-radius: 50%;\n",
              "      cursor: pointer;\n",
              "      display: none;\n",
              "      fill: #1967D2;\n",
              "      height: 32px;\n",
              "      padding: 0 0 0 0;\n",
              "      width: 32px;\n",
              "    }\n",
              "\n",
              "    .colab-df-convert:hover {\n",
              "      background-color: #E2EBFA;\n",
              "      box-shadow: 0px 1px 2px rgba(60, 64, 67, 0.3), 0px 1px 3px 1px rgba(60, 64, 67, 0.15);\n",
              "      fill: #174EA6;\n",
              "    }\n",
              "\n",
              "    .colab-df-buttons div {\n",
              "      margin-bottom: 4px;\n",
              "    }\n",
              "\n",
              "    [theme=dark] .colab-df-convert {\n",
              "      background-color: #3B4455;\n",
              "      fill: #D2E3FC;\n",
              "    }\n",
              "\n",
              "    [theme=dark] .colab-df-convert:hover {\n",
              "      background-color: #434B5C;\n",
              "      box-shadow: 0px 1px 3px 1px rgba(0, 0, 0, 0.15);\n",
              "      filter: drop-shadow(0px 1px 2px rgba(0, 0, 0, 0.3));\n",
              "      fill: #FFFFFF;\n",
              "    }\n",
              "  </style>\n",
              "\n",
              "    <script>\n",
              "      const buttonEl =\n",
              "        document.querySelector('#df-514d6538-89ed-48df-9a96-3450ccc5a3a5 button.colab-df-convert');\n",
              "      buttonEl.style.display =\n",
              "        google.colab.kernel.accessAllowed ? 'block' : 'none';\n",
              "\n",
              "      async function convertToInteractive(key) {\n",
              "        const element = document.querySelector('#df-514d6538-89ed-48df-9a96-3450ccc5a3a5');\n",
              "        const dataTable =\n",
              "          await google.colab.kernel.invokeFunction('convertToInteractive',\n",
              "                                                    [key], {});\n",
              "        if (!dataTable) return;\n",
              "\n",
              "        const docLinkHtml = 'Like what you see? Visit the ' +\n",
              "          '<a target=\"_blank\" href=https://colab.research.google.com/notebooks/data_table.ipynb>data table notebook</a>'\n",
              "          + ' to learn more about interactive tables.';\n",
              "        element.innerHTML = '';\n",
              "        dataTable['output_type'] = 'display_data';\n",
              "        await google.colab.output.renderOutput(dataTable, element);\n",
              "        const docLink = document.createElement('div');\n",
              "        docLink.innerHTML = docLinkHtml;\n",
              "        element.appendChild(docLink);\n",
              "      }\n",
              "    </script>\n",
              "  </div>\n",
              "\n",
              "\n",
              "<div id=\"df-a814ad2a-14e9-48f3-a5d3-7c414f26b9f5\">\n",
              "  <button class=\"colab-df-quickchart\" onclick=\"quickchart('df-a814ad2a-14e9-48f3-a5d3-7c414f26b9f5')\"\n",
              "            title=\"Suggest charts\"\n",
              "            style=\"display:none;\">\n",
              "\n",
              "<svg xmlns=\"http://www.w3.org/2000/svg\" height=\"24px\"viewBox=\"0 0 24 24\"\n",
              "     width=\"24px\">\n",
              "    <g>\n",
              "        <path d=\"M19 3H5c-1.1 0-2 .9-2 2v14c0 1.1.9 2 2 2h14c1.1 0 2-.9 2-2V5c0-1.1-.9-2-2-2zM9 17H7v-7h2v7zm4 0h-2V7h2v10zm4 0h-2v-4h2v4z\"/>\n",
              "    </g>\n",
              "</svg>\n",
              "  </button>\n",
              "\n",
              "<style>\n",
              "  .colab-df-quickchart {\n",
              "      --bg-color: #E8F0FE;\n",
              "      --fill-color: #1967D2;\n",
              "      --hover-bg-color: #E2EBFA;\n",
              "      --hover-fill-color: #174EA6;\n",
              "      --disabled-fill-color: #AAA;\n",
              "      --disabled-bg-color: #DDD;\n",
              "  }\n",
              "\n",
              "  [theme=dark] .colab-df-quickchart {\n",
              "      --bg-color: #3B4455;\n",
              "      --fill-color: #D2E3FC;\n",
              "      --hover-bg-color: #434B5C;\n",
              "      --hover-fill-color: #FFFFFF;\n",
              "      --disabled-bg-color: #3B4455;\n",
              "      --disabled-fill-color: #666;\n",
              "  }\n",
              "\n",
              "  .colab-df-quickchart {\n",
              "    background-color: var(--bg-color);\n",
              "    border: none;\n",
              "    border-radius: 50%;\n",
              "    cursor: pointer;\n",
              "    display: none;\n",
              "    fill: var(--fill-color);\n",
              "    height: 32px;\n",
              "    padding: 0;\n",
              "    width: 32px;\n",
              "  }\n",
              "\n",
              "  .colab-df-quickchart:hover {\n",
              "    background-color: var(--hover-bg-color);\n",
              "    box-shadow: 0 1px 2px rgba(60, 64, 67, 0.3), 0 1px 3px 1px rgba(60, 64, 67, 0.15);\n",
              "    fill: var(--button-hover-fill-color);\n",
              "  }\n",
              "\n",
              "  .colab-df-quickchart-complete:disabled,\n",
              "  .colab-df-quickchart-complete:disabled:hover {\n",
              "    background-color: var(--disabled-bg-color);\n",
              "    fill: var(--disabled-fill-color);\n",
              "    box-shadow: none;\n",
              "  }\n",
              "\n",
              "  .colab-df-spinner {\n",
              "    border: 2px solid var(--fill-color);\n",
              "    border-color: transparent;\n",
              "    border-bottom-color: var(--fill-color);\n",
              "    animation:\n",
              "      spin 1s steps(1) infinite;\n",
              "  }\n",
              "\n",
              "  @keyframes spin {\n",
              "    0% {\n",
              "      border-color: transparent;\n",
              "      border-bottom-color: var(--fill-color);\n",
              "      border-left-color: var(--fill-color);\n",
              "    }\n",
              "    20% {\n",
              "      border-color: transparent;\n",
              "      border-left-color: var(--fill-color);\n",
              "      border-top-color: var(--fill-color);\n",
              "    }\n",
              "    30% {\n",
              "      border-color: transparent;\n",
              "      border-left-color: var(--fill-color);\n",
              "      border-top-color: var(--fill-color);\n",
              "      border-right-color: var(--fill-color);\n",
              "    }\n",
              "    40% {\n",
              "      border-color: transparent;\n",
              "      border-right-color: var(--fill-color);\n",
              "      border-top-color: var(--fill-color);\n",
              "    }\n",
              "    60% {\n",
              "      border-color: transparent;\n",
              "      border-right-color: var(--fill-color);\n",
              "    }\n",
              "    80% {\n",
              "      border-color: transparent;\n",
              "      border-right-color: var(--fill-color);\n",
              "      border-bottom-color: var(--fill-color);\n",
              "    }\n",
              "    90% {\n",
              "      border-color: transparent;\n",
              "      border-bottom-color: var(--fill-color);\n",
              "    }\n",
              "  }\n",
              "</style>\n",
              "\n",
              "  <script>\n",
              "    async function quickchart(key) {\n",
              "      const quickchartButtonEl =\n",
              "        document.querySelector('#' + key + ' button');\n",
              "      quickchartButtonEl.disabled = true;  // To prevent multiple clicks.\n",
              "      quickchartButtonEl.classList.add('colab-df-spinner');\n",
              "      try {\n",
              "        const charts = await google.colab.kernel.invokeFunction(\n",
              "            'suggestCharts', [key], {});\n",
              "      } catch (error) {\n",
              "        console.error('Error during call to suggestCharts:', error);\n",
              "      }\n",
              "      quickchartButtonEl.classList.remove('colab-df-spinner');\n",
              "      quickchartButtonEl.classList.add('colab-df-quickchart-complete');\n",
              "    }\n",
              "    (() => {\n",
              "      let quickchartButtonEl =\n",
              "        document.querySelector('#df-a814ad2a-14e9-48f3-a5d3-7c414f26b9f5 button');\n",
              "      quickchartButtonEl.style.display =\n",
              "        google.colab.kernel.accessAllowed ? 'block' : 'none';\n",
              "    })();\n",
              "  </script>\n",
              "</div>\n",
              "\n",
              "    </div>\n",
              "  </div>\n"
            ],
            "application/vnd.google.colaboratory.intrinsic+json": {
              "type": "dataframe",
              "variable_name": "stack_overflow_df",
              "summary": "{\n  \"name\": \"stack_overflow_df\",\n  \"rows\": 600,\n  \"fields\": [\n    {\n      \"column\": \"input_text\",\n      \"properties\": {\n        \"dtype\": \"string\",\n        \"num_unique_values\": 600,\n        \"samples\": [\n          \"put value on screen without window python mac<p>do any of you guys know of a way that I could display a constantly changing variable on my screen kinda like the 144 below.</p>\\n<p>Everything I have tried either requires a window, doesn't work in python, or doesn't work on mac.</p>\\n<p>Any help or pointers are appreciated!</p>\\n<p><a href=\\\"https://i.stack.imgur.com/PCzyr.jpg\\\" rel=\\\"nofollow noreferrer\\\"><img src=\\\"https://i.stack.imgur.com/PCzyr.jpg\\\" alt=\\\"similar to this 144 in the picture\\\" /></a></p>\",\n          \"Can't print __str__ from the class<p>I wondered how can I print the class contents of a particular index. I made a class that has all the values of a certain seismic movement and stores each in its own data type.</p>\\n<p>Here is the class:</p>\\n<pre><code>import re\\n\\nclass Txt_data:\\n       \\n    def __init__(self, result):\\n    \\n        self.date = result[0]\\n        self.time = result[1]\\n        self.latit = result[2]\\n        self.long = result[3]\\n        self.depth = result[4]\\n        self.md = result[5]\\n        self.ml = result[6]\\n        self.mw = result[7]\\n        self.region = result[8]\\n        self.method = result[9]    \\n  \\n    def date(self):\\n        return self._date\\n\\n  \\n    def time(self):\\n        return self._time\\n\\n  \\n    def latit(self):\\n        return self._latit\\n\\n  \\n    def long(self):\\n        return self._long\\n\\n  \\n    def depth(self):\\n        return self._depth\\n\\n  \\n    def md(self):\\n        return self._md\\n\\n  \\n    def ml(self):\\n        return self._ml\\n\\n  \\n    def mw(self):\\n        return self._mw\\n\\n  \\n    def region(self):\\n        return self._region\\n\\n  \\n    def method(self):\\n        return self._method        \\n\\n    # This does not work \\n    def __str__(self):\\n        return ('MAG: ' + float(self.ml()) + ' DEPTH: ' + int(self.region()) + ' DATE/TIME: ' + str(self.date()) + ' ' + str(self.time()) + ' LAT: ' + float(self.latit()) + ' LON: ' + float(self.long()))\\n\\nresult = [('2021.12.02', '22:29:24', '36.9605', '28.1775', '13.0', '-.-', '1.5', '-.-', 'KARACA-MARMARIS (MUGLA)', ' Quick')]\\n\\n\\nprint(Txt_data(result))\\n</code></pre>\\n<p>I was trying to print the data using <strong>str</strong> method but it doesn't work.</p>\\n<p>Here is the error:</p>\\n<pre><code>Traceback (most recent call last):\\n  File &quot;/Users/seyfalsultanov/Documents/uni comp 100/comp100-2021f-ps5-seyfalku/main.py&quot;, line 73, in &lt;module&gt;\\n    print(Txt_data(result))\\n  File &quot;/Users/seyfalsultanov/Documents/uni comp 100/comp100-2021f-ps5-seyfalku/main.py&quot;, line 60, in __str__\\n    print('MAG: ' + float(self.ml()) + ' DEPTH: ' + int(self.region()) + ' DATE/TIME: ' + str(self.date()) + ' ' + str(self.time()) + ' LAT: ' + float(self.latit()) + ' LON: ' + float(self.long()))\\nAttributeError: Txt_data instance has no __call__ method\\n</code></pre>\\n<p>My question is how to print the string i tried to print using str method in the class.\\nThanks very much beforehand.</p>\",\n          \"Nesting dictionary of dictionaries<p>I am trying to nest two dictionaries, perhaps it's easier to just make one dictionary of dictionaries, however, I have the same keys with different values, would it be easier to just change the keys or is there a way to nest these two?</p>\\n<pre><code>Number_As = 1\\n\\n#DNA dictionary\\nDNAdict = {\\n  'A': ['dAMP',1,..., other values],\\n  'C': ['dCMP',2,..., other values],\\n  'T': ['dTMP',3,..., other values],\\n  'G': ['dGMP',4,..., other values]}\\n\\n#RNA dictionary\\nRNAdict = {\\n  'A': ['AMP',5,..., other values],\\n  'C': ['CMP',6,..., other values],\\n  'U': ['UMP',7,..., other values],\\n  'G': ['GMP',8,..., other values]}\\n</code></pre>\\n<p>I am then trying to access individual values for different calculations:</p>\\n<pre><code>Energy of DNA_A = Number_As * DNAdict['A'][1]\\n\\nEnergy of DNA_A = 1\\n\\nor \\n\\nEnergy of RNA_A = Number_As * RNAdict['A'][1]\\n\\nEnergy of RNA_A = 5\\n</code></pre>\\n<p>But I would like to have only one dictionary and then have access to the different values of each key despite the same name. Is it possible?</p>\\n<p>Thank you lots!!</p>\"\n        ],\n        \"semantic_type\": \"\",\n        \"description\": \"\"\n      }\n    },\n    {\n      \"column\": \"output_text\",\n      \"properties\": {\n        \"dtype\": \"string\",\n        \"num_unique_values\": 600,\n        \"samples\": [\n          \"<p>I was able to acheive this with Pygame, and making the background transparent.</p>\",\n          \"<p>Your immediate problem is that you shadowed all your methods with instance attributes, instead of using <code>_</code>-prefixed names for the attributes that the method expect.</p>\\n<pre><code>def __init__(self, result):\\n\\n    self._date = result[0]\\n    self._time = result[1]\\n    self._latit = result[2]\\n    self._long = result[3]\\n    self._depth = result[4]\\n    self._md = result[5]\\n    self._ml = result[6]\\n    self._mw = result[7]\\n    self._region = result[8]\\n    self._method = result[9]    \\n</code></pre>\\n<p>However, none of those getters are necessary; just use the instance attributes directly. In <code>__str__</code>, use an f-string to perform any necessary type conversions (which you are currently doing wrong; non-<code>str</code> values need to be converted to <code>str</code> values, not the other way around).</p>\\n<pre><code>class Txt_data:\\n       \\n    def __init__(self, result):\\n    \\n        self.date = result[0]\\n        self.time = result[1]\\n        self.latit = result[2]\\n        self.long = result[3]\\n        self.depth = result[4]\\n        self.md = result[5]\\n        self.ml = result[6]\\n        self.mw = result[7]\\n        self.region = result[8]\\n        self.method = result[9]    \\n  \\n    def __str__(self):\\n        return f'MAG: {self.ml} DEPTH: {self.region} DATE/TIME: {self.date} {self.time} LAT: {self.latit} LON: {self.long}'\\n\\n\\n\\nresult = ('2021.12.02', '22:29:24', '36.9605', '28.1775', '13.0', '-.-', '1.5', '-.-', 'KARACA-MARMARIS (MUGLA)', ' Quick')\\nprint(Txt_data(result))\\n</code></pre>\\n<hr />\\n<p>Finally, I would recommend making <code>__init__</code> <em>not</em> be responsible for splitting up a list. Have it simply take 10 different arguments, and use a dedicated class method to parse a list in a fixed format.</p>\\n<pre><code>class Txt_data:\\n       \\n    def __init__(self, date, time, latitude, long, depth, md, ml, mw, region, method):\\n    \\n        self.date = date\\n        self.time = time\\n        self.latit = latit\\n        self.long = long\\n        self.depth = depth\\n        self.md = md\\n        self.ml = ml\\n        self.mw = mw\\n        self.region = region\\n        self.method = method\\n\\n    @classmethod\\n    def from_list(cls, x):\\n        if len(x) != 10:\\n            raise ValueError(&quot;Wrong number of elements in list&quot;)\\n        return cls(*x)\\n  \\n    def __str__(self):\\n        return f'MAG: {self.ml} DEPTH: {self.region} DATE/TIME: {self.date} {self.time} LAT: {self.latit} LON: {self.long}'\\n</code></pre>\",\n          \"<p>yes, all the possiblities, its possible</p>\\n<p>1: Hard code:</p>\\n<pre class=\\\"lang-py prettyprint-override\\\"><code>grouped = {\\n'DNAdict':{\\n  'A': ['dAMP',1,..., ],\\n  'C': ['dCMP',2,..., ],\\n  'T': ['dTMP',3,..., ],\\n  'G': ['dGMP',4,..., ]},\\n'RNAdict':{\\n  'A': ['AMP',5,..., ],\\n  'C': ['CMP',6,..., ],\\n  'U': ['UMP',7,..., ],\\n  'G': ['GMP',8,..., ]}\\n}\\n\\n#acessing RNAdict a[0]\\n\\nvalue = grouped['RNAdict']['A'][0]\\nprint(value)\\n\\n</code></pre>\\n<p>2: grouped in code</p>\\n<pre class=\\\"lang-py prettyprint-override\\\"><code>#RNA dictionary\\nDNAdict = {\\n  'A': ['dAMP',1,..., ],\\n  'C': ['dCMP',2,..., ],\\n  'T': ['dTMP',3,..., ],\\n  'G': ['dGMP',4,..., ]}\\n\\n#RNA dictionary\\nRNAdict = {\\n  'A': ['AMP',5,..., ],\\n  'C': ['CMP',6,..., ],\\n  'U': ['UMP',7,..., ],\\n  'G': ['GMP',8,..., ]}\\n\\ngrouped = {'DNAdict':DNAdict,'RNAdict':RNAdict}\\n\\n#example of finding\\nvalue = grouped['RNAdict']['A'][0]\\nprint(value)\\n</code></pre>\\n<p>3 Adding Prefix:</p>\\n<pre class=\\\"lang-py prettyprint-override\\\"><code>\\ndef add_prefix(elem:dict,prefix:str)-&gt;dict:\\n    new_dict = {}\\n    for key in elem.keys():\\n        new_dict[f'{prefix}_{key}'] = elem[key]\\n    return new_dict\\n\\n\\nDNAdict = {\\n  'A': ['dAMP',1,..., ],\\n  'C': ['dCMP',2,..., ],\\n  'T': ['dTMP',3,..., ],\\n  'G': ['dGMP',4,..., ]}\\n\\n#RNA dictionary\\nRNAdict = {\\n  'A': ['AMP',5,..., ],\\n  'C': ['CMP',6,..., ],\\n  'U': ['UMP',7,..., ],\\n  'G': ['GMP',8,..., ]}\\n\\nDna = add_prefix(elem=DNAdict,prefix='DNA')\\nRna = add_prefix(elem=RNAdict,prefix='RNA')\\nNested= {**Dna, **Rna}\\n</code></pre>\"\n        ],\n        \"semantic_type\": \"\",\n        \"description\": \"\"\n      }\n    },\n    {\n      \"column\": \"input_text_instruct\",\n      \"properties\": {\n        \"dtype\": \"category\",\n        \"num_unique_values\": 1,\n        \"samples\": [\n          \"\\nYou are a helpful Python developer You are good at answering StackOverflow questions Your mission is to provide developers with helpful answers that work\\n\"\n        ],\n        \"semantic_type\": \"\",\n        \"description\": \"\"\n      }\n    }\n  ]\n}"
            }
          },
          "metadata": {},
          "execution_count": 33
        }
      ]
    },
    {
      "cell_type": "code",
      "source": [
        "train, evaluation = train_test_split(stack_overflow_df, test_size=0.2, random_state=42)\n",
        "\n",
        "print(len(train))\n",
        "print(len(evaluation))"
      ],
      "metadata": {
        "colab": {
          "base_uri": "https://localhost:8080/"
        },
        "id": "QCt_uI_EJMGl",
        "outputId": "6baa1718-98c5-453c-8080-313b41475b19"
      },
      "execution_count": 34,
      "outputs": [
        {
          "output_type": "stream",
          "name": "stdout",
          "text": [
            "480\n",
            "120\n"
          ]
        }
      ]
    },
    {
      "cell_type": "markdown",
      "source": [
        "\n",
        "\n",
        "---\n",
        "\n",
        "\n",
        "**3. Generating the JSONL files**\n",
        "\n",
        "Prepare your training data in a JSONL (JSON Lines) file and store it in a Google Cloud Storage (GCS) bucket. This format ensures efficient processing. Each line of the JSONL file must represent a single data instance and follow a well-defined schema:\n",
        "\n",
        "{\"messages\": [{\"role\": \"system\", \"content\": \"instructions\"}, {\"role\": \"user\", \"content\": \"question\"}, {\"role\": \"model\", \"content\": \"answering\"}]}\n",
        "\n",
        "\n",
        "---\n",
        "\n"
      ],
      "metadata": {
        "id": "4jbJ7PawKfG9"
      }
    },
    {
      "cell_type": "code",
      "source": [
        "import datetime"
      ],
      "metadata": {
        "id": "1hE-9ZPsKydd"
      },
      "execution_count": 27,
      "outputs": []
    },
    {
      "cell_type": "code",
      "source": [
        "date= datetime.datetime.now().strftime(\"%m%d%Y\")\n",
        "\n",
        "tuning_data_filename= f\"tuning_data_{date}.jsonl\"\n",
        "validation_data_filename= f\"validation_data_{date}.jsonl\""
      ],
      "metadata": {
        "id": "YvaFijoYJU-N"
      },
      "execution_count": 36,
      "outputs": []
    },
    {
      "cell_type": "code",
      "source": [
        "def format_messages(row):\n",
        "  \"\"\"\n",
        "  Formats each row into the dedired JSONL structure.\n",
        "  \"\"\"\n",
        "  return {\n",
        "      \"messages\": [\n",
        "          {\"role\": \"system\", \"content\": row[\"input_text_instruct\"]},\n",
        "          {\"role\": \"user\", \"content\": row[\"input_text\"]},\n",
        "          {\"role\": \"model\", \"content\": row[\"output_text\"]},\n",
        "      ]\n",
        "  }\n",
        "\n",
        "tuning_data= train.apply(format_messages, axis=1).to_json(orient=\"records\", lines=True)\n",
        "validation_data= evaluation.apply(format_messages, axis=1).to_json(orient=\"records\", lines=True)"
      ],
      "metadata": {
        "id": "ZvqTpKWCLMGi"
      },
      "execution_count": 35,
      "outputs": []
    },
    {
      "cell_type": "code",
      "source": [
        "with open(tuning_data_filename, \"w\") as f:\n",
        "  f.write(tuning_data)\n",
        "\n",
        "with open(validation_data_filename, \"w\") as f:\n",
        "  f.write(validation_data)"
      ],
      "metadata": {
        "id": "m9Dikda0MaNE"
      },
      "execution_count": 37,
      "outputs": []
    },
    {
      "cell_type": "code",
      "source": [
        "with open(tuning_data_filename, \"r\") as f:\n",
        "  num_rows= sum(1 for _ in f)\n",
        "\n",
        "print(\"Training rows: \", num_rows)"
      ],
      "metadata": {
        "colab": {
          "base_uri": "https://localhost:8080/"
        },
        "id": "EiO-U9rYMuZl",
        "outputId": "5fdd56b9-ceeb-4c59-ff88-a1bfacc0cd57"
      },
      "execution_count": 38,
      "outputs": [
        {
          "output_type": "stream",
          "name": "stdout",
          "text": [
            "Training rows:  480\n"
          ]
        }
      ]
    },
    {
      "cell_type": "code",
      "source": [
        "!gsutil cp $tuning_data_filename $validation_data_filename $BUCKET_URI"
      ],
      "metadata": {
        "colab": {
          "base_uri": "https://localhost:8080/"
        },
        "id": "0vYzurlaNFBV",
        "outputId": "02e01787-91a6-4f55-dc2c-5a3bf3474264"
      },
      "execution_count": 39,
      "outputs": [
        {
          "output_type": "stream",
          "name": "stdout",
          "text": [
            "Copying file://tuning_data_09152024.jsonl [Content-Type=application/octet-stream]...\n",
            "Copying file://validation_data_09152024.jsonl [Content-Type=application/octet-stream]...\n",
            "- [2 files][  1.8 MiB/  1.8 MiB]                                                \n",
            "Operation completed over 2 objects/1.8 MiB.                                      \n"
          ]
        }
      ]
    },
    {
      "cell_type": "code",
      "source": [
        "!gsutil ls -al $BUCKET_URI"
      ],
      "metadata": {
        "colab": {
          "base_uri": "https://localhost:8080/"
        },
        "id": "st6x93NdOF8Q",
        "outputId": "92980315-863a-41f3-c626-5d0608fdeb7d"
      },
      "execution_count": 40,
      "outputs": [
        {
          "output_type": "stream",
          "name": "stdout",
          "text": [
            "   1530367  2024-09-15T10:26:43Z  gs://starborn-1/tuning_data_09152024.jsonl#1726396002957443  metageneration=1\n",
            "    364262  2024-09-15T10:26:43Z  gs://starborn-1/validation_data_09152024.jsonl#1726396003232003  metageneration=1\n",
            "                                 gs://starborn-1/Stackoverflow_dataset/\n",
            "TOTAL: 2 objects, 1894629 bytes (1.81 MiB)\n"
          ]
        }
      ]
    },
    {
      "cell_type": "code",
      "source": [
        "TRAINING_DATA_URI= f\"{BUCKET_URI}{tuning_data_filename}\"\n",
        "VALIDATION_DATA_URI= f\"{BUCKET_URI}{validation_data_filename}\""
      ],
      "metadata": {
        "id": "-nalGlLpOXmL"
      },
      "execution_count": 51,
      "outputs": []
    },
    {
      "cell_type": "code",
      "source": [
        "TRAINING_DATA_URI"
      ],
      "metadata": {
        "colab": {
          "base_uri": "https://localhost:8080/",
          "height": 35
        },
        "id": "nzbqB3VlQZDQ",
        "outputId": "9b1c537b-1b0a-4f94-e34b-3de060c031d2"
      },
      "execution_count": 56,
      "outputs": [
        {
          "output_type": "execute_result",
          "data": {
            "text/plain": [
              "'gs://starborn-1/tuning_data_09152024.jsonl'"
            ],
            "application/vnd.google.colaboratory.intrinsic+json": {
              "type": "string"
            }
          },
          "metadata": {},
          "execution_count": 56
        }
      ]
    },
    {
      "cell_type": "markdown",
      "source": [
        "\n",
        "\n",
        "---\n",
        "\n",
        "\n",
        "**4. Creating a tuning job using gemini**\n",
        "\n",
        "\n",
        "---\n",
        "\n"
      ],
      "metadata": {
        "id": "jG21zO5VO036"
      }
    },
    {
      "cell_type": "code",
      "source": [
        "foundational_model= GenerativeModel(\"gemini-1.0-pro-002\")"
      ],
      "metadata": {
        "id": "-LN-DhT-OxR5"
      },
      "execution_count": 57,
      "outputs": []
    },
    {
      "cell_type": "code",
      "source": [
        "sft_trainer= sft.train(\n",
        "    source_model=foundational_model,\n",
        "    train_dataset=TRAINING_DATA_URI,\n",
        "    validation_dataset=VALIDATION_DATA_URI,\n",
        "    epochs=3,\n",
        "    learning_rate_multiplier=1.0,\n",
        ")\n",
        "\n",
        "sft_trainer.to_dict()"
      ],
      "metadata": {
        "colab": {
          "base_uri": "https://localhost:8080/",
          "height": 317
        },
        "id": "K-yfTlaWPhXy",
        "outputId": "7be47680-5642-482a-fee7-aeb5c8cd2a7a"
      },
      "execution_count": 58,
      "outputs": [
        {
          "output_type": "stream",
          "name": "stderr",
          "text": [
            "INFO:vertexai.tuning._tuning:Creating SupervisedTuningJob\n",
            "INFO:vertexai.tuning._tuning:SupervisedTuningJob created. Resource name: projects/52865938246/locations/us-central1/tuningJobs/5218904612085432320\n",
            "INFO:vertexai.tuning._tuning:To use this SupervisedTuningJob in another session:\n",
            "INFO:vertexai.tuning._tuning:tuning_job = sft.SupervisedTuningJob('projects/52865938246/locations/us-central1/tuningJobs/5218904612085432320')\n",
            "INFO:vertexai.tuning._tuning:View Tuning Job:\n",
            "https://console.cloud.google.com/vertex-ai/generative/language/locations/us-central1/tuning/tuningJob/5218904612085432320?project=52865938246\n"
          ]
        },
        {
          "output_type": "display_data",
          "data": {
            "text/plain": [
              "<IPython.core.display.HTML object>"
            ],
            "text/html": [
              "\n",
              "        \n",
              "    <link rel=\"stylesheet\" href=\"https://fonts.googleapis.com/icon?family=Material+Icons\">\n",
              "    <style>\n",
              "      .view-vertex-resource,\n",
              "      .view-vertex-resource:hover,\n",
              "      .view-vertex-resource:visited {\n",
              "        position: relative;\n",
              "        display: inline-flex;\n",
              "        flex-direction: row;\n",
              "        height: 32px;\n",
              "        padding: 0 12px;\n",
              "          margin: 4px 18px;\n",
              "        gap: 4px;\n",
              "        border-radius: 4px;\n",
              "\n",
              "        align-items: center;\n",
              "        justify-content: center;\n",
              "        background-color: rgb(255, 255, 255);\n",
              "        color: rgb(51, 103, 214);\n",
              "\n",
              "        font-family: Roboto,\"Helvetica Neue\",sans-serif;\n",
              "        font-size: 13px;\n",
              "        font-weight: 500;\n",
              "        text-transform: uppercase;\n",
              "        text-decoration: none !important;\n",
              "\n",
              "        transition: box-shadow 280ms cubic-bezier(0.4, 0, 0.2, 1) 0s;\n",
              "        box-shadow: 0px 3px 1px -2px rgba(0,0,0,0.2), 0px 2px 2px 0px rgba(0,0,0,0.14), 0px 1px 5px 0px rgba(0,0,0,0.12);\n",
              "      }\n",
              "      .view-vertex-resource:active {\n",
              "        box-shadow: 0px 5px 5px -3px rgba(0,0,0,0.2),0px 8px 10px 1px rgba(0,0,0,0.14),0px 3px 14px 2px rgba(0,0,0,0.12);\n",
              "      }\n",
              "      .view-vertex-resource:active .view-vertex-ripple::before {\n",
              "        position: absolute;\n",
              "        top: 0;\n",
              "        bottom: 0;\n",
              "        left: 0;\n",
              "        right: 0;\n",
              "        border-radius: 4px;\n",
              "        pointer-events: none;\n",
              "\n",
              "        content: '';\n",
              "        background-color: rgb(51, 103, 214);\n",
              "        opacity: 0.12;\n",
              "      }\n",
              "      .view-vertex-icon {\n",
              "        font-size: 18px;\n",
              "      }\n",
              "    </style>\n",
              "  \n",
              "        <a class=\"view-vertex-resource\" id=\"view-vertex-resource-5d73e40f-19d5-41cf-8a03-0e9e5d0e6d8d\" href=\"#view-view-vertex-resource-5d73e40f-19d5-41cf-8a03-0e9e5d0e6d8d\">\n",
              "          <span class=\"material-icons view-vertex-icon\">tune</span>\n",
              "          <span>View Tuning Job</span>\n",
              "        </a>\n",
              "        \n",
              "        <script>\n",
              "          (function () {\n",
              "            const link = document.getElementById('view-vertex-resource-5d73e40f-19d5-41cf-8a03-0e9e5d0e6d8d');\n",
              "            link.addEventListener('click', (e) => {\n",
              "              if (window.google?.colab?.openUrl) {\n",
              "                window.google.colab.openUrl('https://console.cloud.google.com/vertex-ai/generative/language/locations/us-central1/tuning/tuningJob/5218904612085432320?project=52865938246');\n",
              "              } else {\n",
              "                window.open('https://console.cloud.google.com/vertex-ai/generative/language/locations/us-central1/tuning/tuningJob/5218904612085432320?project=52865938246', '_blank');\n",
              "              }\n",
              "              e.stopPropagation();\n",
              "              e.preventDefault();\n",
              "            });\n",
              "          })();\n",
              "        </script>\n",
              "    "
            ]
          },
          "metadata": {}
        },
        {
          "output_type": "execute_result",
          "data": {
            "text/plain": [
              "{'name': 'projects/52865938246/locations/us-central1/tuningJobs/5218904612085432320',\n",
              " 'tunedModelDisplayName': 'SupervisedTuningJob 2024-09-15 11:02:13.235665',\n",
              " 'baseModel': 'gemini-1.0-pro-002',\n",
              " 'supervisedTuningSpec': {'trainingDatasetUri': 'gs://starborn-1/tuning_data_09152024.jsonl',\n",
              "  'validationDatasetUri': 'gs://starborn-1/validation_data_09152024.jsonl',\n",
              "  'hyperParameters': {'epochCount': '3', 'learningRateMultiplier': 1.0}},\n",
              " 'state': 'JOB_STATE_PENDING',\n",
              " 'createTime': '2024-09-15T11:02:14.090890Z',\n",
              " 'updateTime': '2024-09-15T11:02:14.090890Z'}"
            ]
          },
          "metadata": {},
          "execution_count": 58
        }
      ]
    },
    {
      "cell_type": "code",
      "source": [
        "# Retrieving the models resource name\n",
        "model_resource_name= sft_trainer.resource_name\n",
        "model_resource_name"
      ],
      "metadata": {
        "colab": {
          "base_uri": "https://localhost:8080/",
          "height": 35
        },
        "id": "4NZAeAiEP_1i",
        "outputId": "e64de3bf-44b1-421b-fcce-1b0064fc3f02"
      },
      "execution_count": 61,
      "outputs": [
        {
          "output_type": "execute_result",
          "data": {
            "text/plain": [
              "'projects/52865938246/locations/us-central1/tuningJobs/5218904612085432320'"
            ],
            "application/vnd.google.colaboratory.intrinsic+json": {
              "type": "string"
            }
          },
          "metadata": {},
          "execution_count": 61
        }
      ]
    },
    {
      "cell_type": "markdown",
      "source": [
        "Continue with the next cell once tuning is complete."
      ],
      "metadata": {
        "id": "QdNwyj79RWMg"
      }
    },
    {
      "cell_type": "code",
      "source": [
        "import time"
      ],
      "metadata": {
        "id": "aB1DqfVpRdbR"
      },
      "execution_count": 62,
      "outputs": []
    },
    {
      "cell_type": "code",
      "source": [
        "%%time\n",
        "# Wait for job completion\n",
        "while not sft_trainer.refresh().has_ended:\n",
        "    time.sleep(60)"
      ],
      "metadata": {
        "colab": {
          "base_uri": "https://localhost:8080/",
          "height": 92
        },
        "id": "p3B1pGBfRRLz",
        "outputId": "5b95921a-2299-4a78-e7b4-58c65336c83b"
      },
      "execution_count": 63,
      "outputs": [
        {
          "output_type": "display_data",
          "data": {
            "text/plain": [
              "<IPython.core.display.HTML object>"
            ],
            "text/html": [
              "\n",
              "        \n",
              "    <link rel=\"stylesheet\" href=\"https://fonts.googleapis.com/icon?family=Material+Icons\">\n",
              "    <style>\n",
              "      .view-vertex-resource,\n",
              "      .view-vertex-resource:hover,\n",
              "      .view-vertex-resource:visited {\n",
              "        position: relative;\n",
              "        display: inline-flex;\n",
              "        flex-direction: row;\n",
              "        height: 32px;\n",
              "        padding: 0 12px;\n",
              "          margin: 4px 18px;\n",
              "        gap: 4px;\n",
              "        border-radius: 4px;\n",
              "\n",
              "        align-items: center;\n",
              "        justify-content: center;\n",
              "        background-color: rgb(255, 255, 255);\n",
              "        color: rgb(51, 103, 214);\n",
              "\n",
              "        font-family: Roboto,\"Helvetica Neue\",sans-serif;\n",
              "        font-size: 13px;\n",
              "        font-weight: 500;\n",
              "        text-transform: uppercase;\n",
              "        text-decoration: none !important;\n",
              "\n",
              "        transition: box-shadow 280ms cubic-bezier(0.4, 0, 0.2, 1) 0s;\n",
              "        box-shadow: 0px 3px 1px -2px rgba(0,0,0,0.2), 0px 2px 2px 0px rgba(0,0,0,0.14), 0px 1px 5px 0px rgba(0,0,0,0.12);\n",
              "      }\n",
              "      .view-vertex-resource:active {\n",
              "        box-shadow: 0px 5px 5px -3px rgba(0,0,0,0.2),0px 8px 10px 1px rgba(0,0,0,0.14),0px 3px 14px 2px rgba(0,0,0,0.12);\n",
              "      }\n",
              "      .view-vertex-resource:active .view-vertex-ripple::before {\n",
              "        position: absolute;\n",
              "        top: 0;\n",
              "        bottom: 0;\n",
              "        left: 0;\n",
              "        right: 0;\n",
              "        border-radius: 4px;\n",
              "        pointer-events: none;\n",
              "\n",
              "        content: '';\n",
              "        background-color: rgb(51, 103, 214);\n",
              "        opacity: 0.12;\n",
              "      }\n",
              "      .view-vertex-icon {\n",
              "        font-size: 18px;\n",
              "      }\n",
              "    </style>\n",
              "  \n",
              "        <a class=\"view-vertex-resource\" id=\"view-vertex-resource-eb2f29d0-b432-4c04-930a-1da062cef966\" href=\"#view-view-vertex-resource-eb2f29d0-b432-4c04-930a-1da062cef966\">\n",
              "          <span class=\"material-icons view-vertex-icon\">science</span>\n",
              "          <span>View Experiment</span>\n",
              "        </a>\n",
              "        \n",
              "        <script>\n",
              "          (function () {\n",
              "            const link = document.getElementById('view-vertex-resource-eb2f29d0-b432-4c04-930a-1da062cef966');\n",
              "            link.addEventListener('click', (e) => {\n",
              "              if (window.google?.colab?.openUrl) {\n",
              "                window.google.colab.openUrl('https://console.cloud.google.com/vertex-ai/experiments/locations/us-central1/experiments/tuning-experiment-20240915041524347460/runs?project=basic-pipeline-435315');\n",
              "              } else {\n",
              "                window.open('https://console.cloud.google.com/vertex-ai/experiments/locations/us-central1/experiments/tuning-experiment-20240915041524347460/runs?project=basic-pipeline-435315', '_blank');\n",
              "              }\n",
              "              e.stopPropagation();\n",
              "              e.preventDefault();\n",
              "            });\n",
              "          })();\n",
              "        </script>\n",
              "    "
            ]
          },
          "metadata": {}
        },
        {
          "output_type": "stream",
          "name": "stdout",
          "text": [
            "CPU times: user 76.6 ms, sys: 5.98 ms, total: 82.6 ms\n",
            "Wall time: 1.61 s\n"
          ]
        }
      ]
    },
    {
      "cell_type": "code",
      "source": [
        "sft_trainer.list()"
      ],
      "metadata": {
        "colab": {
          "base_uri": "https://localhost:8080/"
        },
        "id": "1KgdEU_DpYzA",
        "outputId": "3ec695d4-dbe8-4ce4-aaa3-f9613f348ca6"
      },
      "execution_count": 64,
      "outputs": [
        {
          "output_type": "execute_result",
          "data": {
            "text/plain": [
              "[<vertexai.tuning._supervised_tuning.SupervisedTuningJob object at 0x7faf34fecc70> \n",
              " resource name: projects/52865938246/locations/us-central1/tuningJobs/5218904612085432320,\n",
              " <vertexai.tuning._supervised_tuning.SupervisedTuningJob object at 0x7faf3600f8b0> \n",
              " resource name: projects/52865938246/locations/us-central1/tuningJobs/6129757636721115136]"
            ]
          },
          "metadata": {},
          "execution_count": 64
        }
      ]
    },
    {
      "cell_type": "markdown",
      "source": [
        "Our model is automatically deployed as a Vertex AI Endpoint and ready for usage!"
      ],
      "metadata": {
        "id": "Md7uvsJ3p3U6"
      }
    },
    {
      "cell_type": "code",
      "source": [
        "tuned_model_endpoint_name = sft_trainer.tuned_model_endpoint_name\n",
        "tuned_model_endpoint_name"
      ],
      "metadata": {
        "colab": {
          "base_uri": "https://localhost:8080/",
          "height": 35
        },
        "id": "i8fFbmtepnlk",
        "outputId": "974dce8b-265a-4df5-fe49-55d59608178a"
      },
      "execution_count": 66,
      "outputs": [
        {
          "output_type": "execute_result",
          "data": {
            "text/plain": [
              "'projects/52865938246/locations/us-central1/endpoints/5273927369395011584'"
            ],
            "application/vnd.google.colaboratory.intrinsic+json": {
              "type": "string"
            }
          },
          "metadata": {},
          "execution_count": 66
        }
      ]
    },
    {
      "cell_type": "code",
      "source": [
        "tuned_model = GenerativeModel(tuned_model_endpoint_name)\n",
        "print(tuned_model)"
      ],
      "metadata": {
        "colab": {
          "base_uri": "https://localhost:8080/"
        },
        "id": "L4ygIaWzp85W",
        "outputId": "3238bdf1-8653-4275-a9ef-306815a29b6d"
      },
      "execution_count": 67,
      "outputs": [
        {
          "output_type": "stream",
          "name": "stdout",
          "text": [
            "<vertexai.generative_models.GenerativeModel object at 0x7faf34fef640>\n"
          ]
        }
      ]
    },
    {
      "cell_type": "markdown",
      "source": [
        "\n",
        "\n",
        "---\n",
        "\n",
        "\n",
        "**5. Calling the API**\n",
        "\n",
        "\n",
        "---\n",
        "\n"
      ],
      "metadata": {
        "id": "yefm3K3grv8g"
      }
    },
    {
      "cell_type": "code",
      "source": [
        "output= tuned_model.generate_content(\n",
        "    \"What are the best resources to learn Google cloud platform?\"\n",
        ")"
      ],
      "metadata": {
        "id": "qOUpJnCBrsl-"
      },
      "execution_count": 69,
      "outputs": []
    },
    {
      "cell_type": "code",
      "source": [
        "pprint(output.text)"
      ],
      "metadata": {
        "colab": {
          "base_uri": "https://localhost:8080/"
        },
        "id": "vwFt8ky_sNLC",
        "outputId": "ccbb69d7-9736-4104-b3a8-3788aa81ac5e"
      },
      "execution_count": 74,
      "outputs": [
        {
          "output_type": "stream",
          "name": "stdout",
          "text": [
            "('## Best Resources for Learning Google Cloud Platform:\\n'\n",
            " '\\n'\n",
            " '**Official Resources:**\\n'\n",
            " '\\n'\n",
            " '* **Google Cloud Platform Documentation:** Comprehensive and up-to-date '\n",
            " 'documentation, including tutorials, code samples, and best practices. '\n",
            " 'https://cloud.google.com/docs/\\n'\n",
            " '* **Google Cloud Platform Blog:** News, announcements, and insights about '\n",
            " 'Google Cloud Platform. https://cloud.google.com/blog/\\n'\n",
            " '* **Google Cloud Platform Community Forums:** A great place to ask questions '\n",
            " 'and get help from Google experts and other users. '\n",
            " 'https://cloud.google.com/community/forums/\\n'\n",
            " '* **Google Cloud Platform Learning Tracks:** Curated learning paths to help '\n",
            " 'you get started with specific Google Cloud services. '\n",
            " 'https://cloud.google.com/learning/learn-cloud-gcp/\\n'\n",
            " '\\n'\n",
            " '**Free Courses:**\\n'\n",
            " '\\n'\n",
            " '* **Cloud OnAir:** Google hosts regular events featuring demos, product deep '\n",
            " 'dives, and expert sessions. https://cloudonair.withgoogle.com/\\n'\n",
            " '* **Coursera:** Offers several free courses on Google Cloud Platform, '\n",
            " 'including Introduction to Cloud Computing, Big Data and Machine Learning '\n",
            " 'Fundamentals, and Cloud Computing Security. '\n",
            " 'https://www.coursera.org/browse/google-cloud\\n'\n",
            " '* **A Cloud Guru:** Offers free GCP courses on topics like Google Kubernetes '\n",
            " 'Engine (GKE) and GCP infrastructure. https://learn.acloud.guru/modules/281\\n'\n",
            " '\\n'\n",
            " '**Paid Courses:**\\n'\n",
            " '\\n'\n",
            " '* **A Cloud Guru:** Offers more comprehensive GCP courses that cover '\n",
            " 'specific topics in more depth. '\n",
            " 'https://learn.acloud.guru/modules/google-cloud\\n'\n",
            " '* **Google Cloud Platform Professional Certification:** Offers a rigorous '\n",
            " 'certification program that validates your GCP skills. '\n",
            " 'https://cloud.google.com/certification/cloud-architect\\n'\n",
            " '\\n'\n",
            " '**Other Resources:**\\n'\n",
            " '\\n'\n",
            " '* **GCP Pocket Guide:** A free ebook that provides a quick reference guide '\n",
            " 'to Google Cloud Platform services. '\n",
            " 'https://cloud.google.com/docs/pocket-guide\\n'\n",
            " '* **Google Cloud Platform Twitter Feed:** Follow Google Cloud Platform on '\n",
            " 'Twitter for news, announcements, and tips. https://twitter.com/googlecloud\\n'\n",
            " '\\n'\n",
            " '\\n'\n",
            " '**Bonus:**\\n'\n",
            " '\\n'\n",
            " '* **Google Cloud Skills Boost:** Earn badges and rewards for completing '\n",
            " 'Google Cloud Platform training courses. '\n",
            " 'https://cloud.google.com/skills-boost\\n'\n",
            " '\\n'\n",
            " '**Additional Tips:**\\n'\n",
            " '\\n'\n",
            " '* Start by learning the basics of cloud computing.\\n'\n",
            " '* Choose a specific topic that you are interested in and focus on learning '\n",
            " 'that topic.\\n'\n",
            " '* Practice what you learn by completing hands-on labs and tutorials.\\n'\n",
            " '* Join the Google Cloud Platform Community to ask questions and get help '\n",
            " 'from other users.\\n'\n",
            " '\\n'\n",
            " '## Conclusion:\\n'\n",
            " '\\n'\n",
            " 'There are many great resources available for learning Google Cloud Platform. '\n",
            " 'The best resources for you will depend on your learning style and goals. '\n",
            " 'Start with the official resources and then choose additional resources based '\n",
            " 'on your needs. By practicing what you learn, you can become a Google Cloud '\n",
            " 'Platform expert in no time.')\n"
          ]
        }
      ]
    },
    {
      "cell_type": "code",
      "source": [],
      "metadata": {
        "id": "HyBy23flsfHI"
      },
      "execution_count": null,
      "outputs": []
    }
  ]
}