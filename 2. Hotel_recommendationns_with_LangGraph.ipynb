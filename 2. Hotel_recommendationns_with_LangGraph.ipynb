{
  "nbformat": 4,
  "nbformat_minor": 0,
  "metadata": {
    "colab": {
      "provenance": []
    },
    "kernelspec": {
      "name": "python3",
      "display_name": "Python 3"
    },
    "language_info": {
      "name": "python"
    }
  },
  "cells": [
    {
      "cell_type": "markdown",
      "source": [
        "\n",
        "\n",
        "---\n",
        "\n",
        "\n",
        "# **1. Setting up the environment**\n",
        "\n",
        "\n",
        "---\n",
        "\n"
      ],
      "metadata": {
        "id": "0D92E0oezJG0"
      }
    },
    {
      "cell_type": "code",
      "execution_count": 1,
      "metadata": {
        "colab": {
          "base_uri": "https://localhost:8080/"
        },
        "id": "I2jQizLZzCEh",
        "outputId": "53adb47c-9a4d-4015-d32a-5ae6fc987801"
      },
      "outputs": [
        {
          "output_type": "stream",
          "name": "stdout",
          "text": [
            "Mounted at /content/drive\n"
          ]
        }
      ],
      "source": [
        "from google.colab import drive\n",
        "drive.mount('/content/drive')"
      ]
    },
    {
      "cell_type": "markdown",
      "source": [
        "**Installing the required modules:**\n",
        "- python-dotenv\n",
        "- langchain\n",
        "- langchain-google-genai\n",
        "- langchain_community\n",
        "- langgraph\n",
        "- grandalf\n",
        "- langsmith\n",
        "- tavily-python"
      ],
      "metadata": {
        "id": "_ge0pS0J3bDU"
      }
    },
    {
      "cell_type": "code",
      "source": [
        "%pip install -r '/content/drive/MyDrive/LangGraph/Customer_Service_Chatbot/requirements.txt' --quiet"
      ],
      "metadata": {
        "colab": {
          "base_uri": "https://localhost:8080/"
        },
        "id": "1SD9FRyAzU59",
        "outputId": "00a37e6a-260b-4764-af99-2bf614a6f436"
      },
      "execution_count": 2,
      "outputs": [
        {
          "output_type": "stream",
          "name": "stdout",
          "text": [
            "\u001b[2K     \u001b[90m━━━━━━━━━━━━━━━━━━━━━━━━━━━━━━━━━━━━━━━━\u001b[0m \u001b[32m50.4/50.4 kB\u001b[0m \u001b[31m2.3 MB/s\u001b[0m eta \u001b[36m0:00:00\u001b[0m\n",
            "\u001b[2K   \u001b[90m━━━━━━━━━━━━━━━━━━━━━━━━━━━━━━━━━━━━━━━━\u001b[0m \u001b[32m1.0/1.0 MB\u001b[0m \u001b[31m8.1 MB/s\u001b[0m eta \u001b[36m0:00:00\u001b[0m\n",
            "\u001b[2K   \u001b[90m━━━━━━━━━━━━━━━━━━━━━━━━━━━━━━━━━━━━━━━━\u001b[0m \u001b[32m2.3/2.3 MB\u001b[0m \u001b[31m34.2 MB/s\u001b[0m eta \u001b[36m0:00:00\u001b[0m\n",
            "\u001b[2K   \u001b[90m━━━━━━━━━━━━━━━━━━━━━━━━━━━━━━━━━━━━━━━━\u001b[0m \u001b[32m98.5/98.5 kB\u001b[0m \u001b[31m5.5 MB/s\u001b[0m eta \u001b[36m0:00:00\u001b[0m\n",
            "\u001b[2K   \u001b[90m━━━━━━━━━━━━━━━━━━━━━━━━━━━━━━━━━━━━━━━━\u001b[0m \u001b[32m41.8/41.8 kB\u001b[0m \u001b[31m2.6 MB/s\u001b[0m eta \u001b[36m0:00:00\u001b[0m\n",
            "\u001b[2K   \u001b[90m━━━━━━━━━━━━━━━━━━━━━━━━━━━━━━━━━━━━━━━━\u001b[0m \u001b[32m289.9/289.9 kB\u001b[0m \u001b[31m14.4 MB/s\u001b[0m eta \u001b[36m0:00:00\u001b[0m\n",
            "\u001b[2K   \u001b[90m━━━━━━━━━━━━━━━━━━━━━━━━━━━━━━━━━━━━━━━━\u001b[0m \u001b[32m76.4/76.4 kB\u001b[0m \u001b[31m5.3 MB/s\u001b[0m eta \u001b[36m0:00:00\u001b[0m\n",
            "\u001b[2K   \u001b[90m━━━━━━━━━━━━━━━━━━━━━━━━━━━━━━━━━━━━━━━━\u001b[0m \u001b[32m77.9/77.9 kB\u001b[0m \u001b[31m4.1 MB/s\u001b[0m eta \u001b[36m0:00:00\u001b[0m\n",
            "\u001b[2K   \u001b[90m━━━━━━━━━━━━━━━━━━━━━━━━━━━━━━━━━━━━━━━━\u001b[0m \u001b[32m405.1/405.1 kB\u001b[0m \u001b[31m17.8 MB/s\u001b[0m eta \u001b[36m0:00:00\u001b[0m\n",
            "\u001b[2K   \u001b[90m━━━━━━━━━━━━━━━━━━━━━━━━━━━━━━━━━━━━━━━━\u001b[0m \u001b[32m141.9/141.9 kB\u001b[0m \u001b[31m8.4 MB/s\u001b[0m eta \u001b[36m0:00:00\u001b[0m\n",
            "\u001b[2K   \u001b[90m━━━━━━━━━━━━━━━━━━━━━━━━━━━━━━━━━━━━━━━━\u001b[0m \u001b[32m1.1/1.1 MB\u001b[0m \u001b[31m27.2 MB/s\u001b[0m eta \u001b[36m0:00:00\u001b[0m\n",
            "\u001b[2K   \u001b[90m━━━━━━━━━━━━━━━━━━━━━━━━━━━━━━━━━━━━━━━━\u001b[0m \u001b[32m49.3/49.3 kB\u001b[0m \u001b[31m2.9 MB/s\u001b[0m eta \u001b[36m0:00:00\u001b[0m\n",
            "\u001b[2K   \u001b[90m━━━━━━━━━━━━━━━━━━━━━━━━━━━━━━━━━━━━━━━━\u001b[0m \u001b[32m378.0/378.0 kB\u001b[0m \u001b[31m19.9 MB/s\u001b[0m eta \u001b[36m0:00:00\u001b[0m\n",
            "\u001b[2K   \u001b[90m━━━━━━━━━━━━━━━━━━━━━━━━━━━━━━━━━━━━━━━━\u001b[0m \u001b[32m58.3/58.3 kB\u001b[0m \u001b[31m4.2 MB/s\u001b[0m eta \u001b[36m0:00:00\u001b[0m\n",
            "\u001b[?25h"
          ]
        }
      ]
    },
    {
      "cell_type": "markdown",
      "source": [
        "**Loading the environment variables:**"
      ],
      "metadata": {
        "id": "w8dwytYT3wl_"
      }
    },
    {
      "cell_type": "code",
      "source": [
        "from dotenv import load_dotenv\n",
        "load_dotenv(\"/content/drive/MyDrive/LangGraph/Customer_Service_Chatbot/chat_key.txt\", override=True)"
      ],
      "metadata": {
        "colab": {
          "base_uri": "https://localhost:8080/"
        },
        "id": "t3Z2nLQh2bqR",
        "outputId": "a4e282ce-80a9-46b0-9cd0-e452343c0016"
      },
      "execution_count": 3,
      "outputs": [
        {
          "output_type": "execute_result",
          "data": {
            "text/plain": [
              "True"
            ]
          },
          "metadata": {},
          "execution_count": 3
        }
      ]
    },
    {
      "cell_type": "markdown",
      "source": [
        "**Initializing the LLM:**"
      ],
      "metadata": {
        "id": "s7fyxPcD324C"
      }
    },
    {
      "cell_type": "code",
      "source": [
        "%pip install langchain_openai --quiet"
      ],
      "metadata": {
        "colab": {
          "base_uri": "https://localhost:8080/"
        },
        "id": "hw2SRO5e97fY",
        "outputId": "1f0b5dce-1042-49b7-fdf0-be5135e6b73e"
      },
      "execution_count": 4,
      "outputs": [
        {
          "output_type": "stream",
          "name": "stdout",
          "text": [
            "\u001b[?25l   \u001b[90m━━━━━━━━━━━━━━━━━━━━━━━━━━━━━━━━━━━━━━━━\u001b[0m \u001b[32m0.0/51.5 kB\u001b[0m \u001b[31m?\u001b[0m eta \u001b[36m-:--:--\u001b[0m\r\u001b[2K   \u001b[91m━━━━━━━━━━━━━━━━━━━━━━━━━━━━━━━━━━━━━━━\u001b[0m\u001b[91m╸\u001b[0m \u001b[32m51.2/51.5 kB\u001b[0m \u001b[31m1.4 MB/s\u001b[0m eta \u001b[36m0:00:01\u001b[0m\r\u001b[2K   \u001b[90m━━━━━━━━━━━━━━━━━━━━━━━━━━━━━━━━━━━━━━━━\u001b[0m \u001b[32m51.5/51.5 kB\u001b[0m \u001b[31m957.8 kB/s\u001b[0m eta \u001b[36m0:00:00\u001b[0m\n",
            "\u001b[?25h\u001b[?25l   \u001b[90m━━━━━━━━━━━━━━━━━━━━━━━━━━━━━━━━━━━━━━━━\u001b[0m \u001b[32m0.0/374.2 kB\u001b[0m \u001b[31m?\u001b[0m eta \u001b[36m-:--:--\u001b[0m\r\u001b[2K   \u001b[91m━━━━━━━━━━━━\u001b[0m\u001b[90m╺\u001b[0m\u001b[90m━━━━━━━━━━━━━━━━━━━━━━━━━━━\u001b[0m \u001b[32m112.6/374.2 kB\u001b[0m \u001b[31m3.3 MB/s\u001b[0m eta \u001b[36m0:00:01\u001b[0m\r\u001b[2K   \u001b[91m━━━━━━━━━━━━━━━━━━━━━━━━━━━━━━━━━━━━━━━\u001b[0m\u001b[90m╺\u001b[0m \u001b[32m368.6/374.2 kB\u001b[0m \u001b[31m5.2 MB/s\u001b[0m eta \u001b[36m0:00:01\u001b[0m\r\u001b[2K   \u001b[90m━━━━━━━━━━━━━━━━━━━━━━━━━━━━━━━━━━━━━━━━\u001b[0m \u001b[32m374.2/374.2 kB\u001b[0m \u001b[31m4.3 MB/s\u001b[0m eta \u001b[36m0:00:00\u001b[0m\n",
            "\u001b[?25h\u001b[?25l   \u001b[90m━━━━━━━━━━━━━━━━━━━━━━━━━━━━━━━━━━━━━━━━\u001b[0m \u001b[32m0.0/318.9 kB\u001b[0m \u001b[31m?\u001b[0m eta \u001b[36m-:--:--\u001b[0m\r\u001b[2K   \u001b[90m━━━━━━━━━━━━━━━━━━━━━━━━━━━━━━━━━━━━━━━━\u001b[0m \u001b[32m318.9/318.9 kB\u001b[0m \u001b[31m17.4 MB/s\u001b[0m eta \u001b[36m0:00:00\u001b[0m\n",
            "\u001b[?25h"
          ]
        }
      ]
    },
    {
      "cell_type": "code",
      "source": [
        "from langchain_openai import ChatOpenAI\n",
        "llm= ChatOpenAI()"
      ],
      "metadata": {
        "id": "QpCGA2La3HIE"
      },
      "execution_count": 5,
      "outputs": []
    },
    {
      "cell_type": "markdown",
      "source": [
        "\n",
        "\n",
        "---\n",
        "\n",
        "\n",
        "#**2. Defining the tool**\n",
        "\n",
        "\n",
        "---\n",
        "\n"
      ],
      "metadata": {
        "id": "2vHrF01pwJu-"
      }
    },
    {
      "cell_type": "code",
      "source": [
        "from google.colab import auth\n",
        "auth.authenticate_user()\n",
        "print(\"Authenticated\")\n",
        "\n",
        "from google.auth import default\n",
        "CREDENTIALS, _ = default()\n",
        "\n",
        "PROJECT_ID= \"basic-pipeline-435315\"\n",
        "REGION= \"us-central1\""
      ],
      "metadata": {
        "colab": {
          "base_uri": "https://localhost:8080/"
        },
        "id": "73s8hz9N4kuH",
        "outputId": "447f3bd5-3d43-4ecd-c56d-796dc0d92bf0"
      },
      "execution_count": 6,
      "outputs": [
        {
          "output_type": "stream",
          "name": "stdout",
          "text": [
            "Authenticated\n"
          ]
        }
      ]
    },
    {
      "cell_type": "code",
      "source": [
        "import re\n",
        "import numpy as np\n",
        "\n",
        "from google.cloud import bigquery\n",
        "bq_client= bigquery.Client(\n",
        "    project=PROJECT_ID,\n",
        "    credentials=CREDENTIALS)"
      ],
      "metadata": {
        "id": "vbOe3RHmwW_J"
      },
      "execution_count": 7,
      "outputs": []
    },
    {
      "cell_type": "code",
      "source": [
        "query_info=\"\"\"\n",
        "SELECT *\n",
        "FROM\n",
        " `basic-pipeline-435315.Hotel_reviews.europe_reviews`\n",
        "LIMIT 10\n",
        "\"\"\"\n",
        "job= bq_client.query(query_info)"
      ],
      "metadata": {
        "id": "4lKm4YzMGXgy"
      },
      "execution_count": 8,
      "outputs": []
    },
    {
      "cell_type": "code",
      "source": [
        "hotel_info= job.result().to_arrow().to_pandas()\n",
        "hotel_info.columns"
      ],
      "metadata": {
        "colab": {
          "base_uri": "https://localhost:8080/"
        },
        "id": "OtE8SkZeG2Ui",
        "outputId": "6f51db87-80c4-493b-cc84-1ab6b2aaf10c"
      },
      "execution_count": 9,
      "outputs": [
        {
          "output_type": "execute_result",
          "data": {
            "text/plain": [
              "Index(['Hotel_Address', 'Additional_Number_of_Scoring', 'Review_Date',\n",
              "       'Average_Score', 'Hotel_Name', 'Reviewer_Nationality',\n",
              "       'Negative_Review', 'Review_Total_Negative_Word_Counts',\n",
              "       'Total_Number_of_Reviews', 'Positive_Review',\n",
              "       'Review_Total_Positive_Word_Counts',\n",
              "       'Total_Number_of_Reviews_Reviewer_Has_Given', 'Reviewer_Score', 'Tags',\n",
              "       'days_since_review', 'lat', 'lng'],\n",
              "      dtype='object')"
            ]
          },
          "metadata": {},
          "execution_count": 9
        }
      ]
    },
    {
      "cell_type": "code",
      "source": [
        "from langchain_core.tools import tool\n",
        "from langchain_core.runnables import RunnableConfig\n",
        "from typing import Optional, List, Dict\n",
        "from google.cloud import bigquery\n",
        "\n",
        "@tool\n",
        "def Search_hotels(\n",
        "    config: RunnableConfig,\n",
        "    Address: Optional[str] = None,\n",
        "    Name: Optional[str] = None,\n",
        "    Avg_score: Optional[float] = None,\n",
        "    Tag: Optional[str] = None\n",
        "    ) -> List[Dict]:\n",
        "    \"\"\"\n",
        "    Search for hotels based on the provided criteria.\n",
        "\n",
        "    Args:\n",
        "      Address: The address of the hotel.\n",
        "      Name: The name of the hotel.\n",
        "      Avg_score: The average score of the hotel.\n",
        "      Tag: The tag of the hotel such as business, couples, etc.\n",
        "\n",
        "    Returns:\n",
        "      List[Dict]: A list of hotel dictionaries matching the search criteria.\n",
        "    \"\"\"\n",
        "    configuration = config.get(\"configurable\", {})\n",
        "    rev_nationality = configuration.get(\"Reviewer_Nationality\", None)\n",
        "    if not rev_nationality:\n",
        "        raise ValueError(\"No Reviewer_Nationality configured.\")\n",
        "\n",
        "    # Base query\n",
        "    query = \"\"\"\n",
        "    SELECT Hotel_Name, Hotel_Address, Average_Score, Tags\n",
        "    FROM `basic-pipeline-435315.Hotel_reviews.europe_reviews`\n",
        "    WHERE 1=1\n",
        "    \"\"\"\n",
        "    params = []\n",
        "\n",
        "    if Address:\n",
        "        query += \" AND Hotel_Address LIKE @Address\"\n",
        "        params.append(bigquery.ScalarQueryParameter(\"Address\", \"STRING\", f\"%{Address}%\"))\n",
        "    if Name:\n",
        "        query += \" AND Hotel_Name LIKE @Name\"\n",
        "        params.append(bigquery.ScalarQueryParameter(\"Name\", \"STRING\", f\"%{Name}%\"))\n",
        "    if Avg_score is not None:\n",
        "        query += \" AND Average_Score >= @Avg_score\"\n",
        "        params.append(bigquery.ScalarQueryParameter(\"Avg_score\", \"FLOAT64\", Avg_score))\n",
        "    if Tag:\n",
        "        query += \" AND Tags LIKE @Tag\"\n",
        "        params.append(bigquery.ScalarQueryParameter(\"Tag\", \"STRING\", f\"%{Tag}%\"))\n",
        "\n",
        "    query+= \"\"\"\n",
        "    LIMIT 10\n",
        "    \"\"\"\n",
        "    job = bq_client.query(query, job_config=bigquery.QueryJobConfig(\n",
        "        query_parameters=params\n",
        "    ))\n",
        "\n",
        "    # Converting to list of dicts\n",
        "    results = job.result()\n",
        "    hotels = [dict(row) for row in results]\n",
        "\n",
        "    return hotels"
      ],
      "metadata": {
        "id": "MTL0U2IZwZLS"
      },
      "execution_count": 70,
      "outputs": []
    },
    {
      "cell_type": "markdown",
      "source": [
        "**Utility fucntions:**"
      ],
      "metadata": {
        "id": "No0gnMSJxM2y"
      }
    },
    {
      "cell_type": "code",
      "source": [
        "from langchain_core.messages import ToolMessage\n",
        "from langchain_core.runnables import RunnableLambda\n",
        "from langgraph.prebuilt import ToolNode\n",
        "\n",
        "def tool_handles(state) -> dict:\n",
        "  \"\"\"\n",
        "  Handles the tool errors during execution.\n",
        "  \"\"\"\n",
        "  err= state.get('error')\n",
        "  tool_calls= state[\"messages\"][-1].tool_calls\n",
        "  return {\n",
        "      \"messages\": [\n",
        "          ToolMessage(\n",
        "              content= \"Error: {repr(err)}. Fix this.\".format(err=err),\n",
        "              tool_id= tc[\"id\"]\n",
        "          )\n",
        "          for tc in tool_calls\n",
        "      ]\n",
        "  }\n",
        "\n",
        "def tool_node_fallback(tools: list) -> dict:\n",
        "  \"\"\"\n",
        "  Creates a toolnode with fallback mechanism to handle errors.\n",
        "  \"\"\"\n",
        "  return ToolNode(tools).with_fallbacks(\n",
        "        [RunnableLambda(tool_handles)], exception_key=\"error\"\n",
        "    )\n",
        "\n",
        "def _print_event(event: dict, _printed: set, max_length=1500):\n",
        "  \"\"\"\n",
        "  Prints the details about the current event including the dialog state and messages.\n",
        "  \"\"\"\n",
        "  current_state= event.get(\"dialog_state\")\n",
        "  if current_state:\n",
        "      print(\"Currently in: \", current_state[-1])\n",
        "  message= event.get(\"messages\")\n",
        "  if message:\n",
        "      if isinstance(message, list):\n",
        "            message= message[-1]\n",
        "      if message.id not in _printed:\n",
        "          msg_repr= message.pretty_repr(html=True)\n",
        "          if len(msg_repr) > max_length:\n",
        "              msg_repr= msg_repr[:max_length] + \" ... (truncated)\"\n",
        "          print(msg_repr)\n",
        "          _printed.add(message.id)"
      ],
      "metadata": {
        "id": "paLbmWH_wYYa"
      },
      "execution_count": 31,
      "outputs": []
    },
    {
      "cell_type": "markdown",
      "source": [
        "\n",
        "\n",
        "---\n",
        "\n",
        "\n",
        "# **3. Zero-shot Agent**\n",
        "\n",
        "\n",
        "---\n",
        "\n",
        "Starting with the simplest working implementation. In case of a zero-shot agent, the bot may take undesired actions without user confirmation and struggle with complex queries."
      ],
      "metadata": {
        "id": "HVWj5Ko739pg"
      }
    },
    {
      "cell_type": "code",
      "source": [
        "%pip install langsmith --quiet"
      ],
      "metadata": {
        "id": "2VhH_d-nG3Kh"
      },
      "execution_count": 32,
      "outputs": []
    },
    {
      "cell_type": "markdown",
      "source": [
        "**Defining the state:**"
      ],
      "metadata": {
        "id": "ccCjkxft7com"
      }
    },
    {
      "cell_type": "code",
      "source": [
        "from typing_extensions import Annotated\n",
        "from typing_extensions import TypedDict\n",
        "from langgraph.graph.message import AnyMessage\n",
        "from langgraph.graph.message import add_messages\n",
        "\n",
        "class State(TypedDict):\n",
        "  messages: Annotated[list[AnyMessage], add_messages]"
      ],
      "metadata": {
        "id": "bV5f-7aw2nKv"
      },
      "execution_count": 45,
      "outputs": []
    },
    {
      "cell_type": "markdown",
      "source": [
        "**Defining the Agent:**\n",
        "\n",
        "Formats the graph state into a prompt and calls the LLM to predict the best response."
      ],
      "metadata": {
        "id": "q8w1vY5E820W"
      }
    },
    {
      "cell_type": "code",
      "source": [
        "import datetime\n",
        "from langchain_community.tools.tavily_search import TavilySearchResults\n",
        "from langchain_core.prompts import ChatPromptTemplate\n",
        "from langchain_core.prompts import MessagesPlaceholder\n",
        "# Runnable: Represents an executable unit.\n",
        "# RunnableConfig: Specifies configuration options for how a Runnable should behave.\n",
        "from langchain_core.runnables import Runnable, RunnableConfig\n",
        "\n",
        "class Zero_Shot:\n",
        "  def __init__(self, runnable: Runnable):\n",
        "    self.runnable= runnable\n",
        "\n",
        "  def __call__(self, state: State, config: RunnableConfig):\n",
        "    while True:\n",
        "      configuration= config.get(\"configurable\", {})\n",
        "      rev_nationality= configuration.get(\"Reviewer_Nationality\", None)\n",
        "      state= {**state, \"rev_nationality\": rev_nationality}\n",
        "      result= self.runnable.invoke(state)\n",
        "      # If the LLM returns an empty response, re-prompt.\n",
        "      if not result.tool_calls and (\n",
        "          not result.content\n",
        "          or isinstance(result.content, list)\n",
        "          and not result.content[0].get(\"text\")\n",
        "      ):\n",
        "        messages= state[\"messages\"] + [(\"user\", \"Appropriate result not found. Respond again.\")]\n",
        "        state= {**state, \"messages\": messages}\n",
        "      else:\n",
        "        break\n",
        "    return {\"messages\": result}\n",
        "\n",
        "Zero_Shot_Prompt= ChatPromptTemplate.from_messages([\n",
        "    (\n",
        "      \"system\",\n",
        "      \"\"\"\n",
        "      You're an expert customer service assistant for Hotel booking in europe.\n",
        "      Current time: {time}\n",
        "\n",
        "      **Follow these steps in your response generation procedure:**\n",
        "      1. Utilize the provided tools to search for Hotels based on the user's queries.\n",
        "      2. If no search results are found, try expanding the search by including nearby hotels or suggesting alternative hotels.\n",
        "      3. Understand the user's intent within their messages to provide the most helpful response.\n",
        "      \"\"\"\n",
        "    ),\n",
        "    MessagesPlaceholder(variable_name=\"messages\"),\n",
        "]).partial(time= lambda: datetime.datetime.now().isoformat())"
      ],
      "metadata": {
        "id": "OD9zMFjK8zcX"
      },
      "execution_count": 71,
      "outputs": []
    },
    {
      "cell_type": "markdown",
      "source": [
        "**Constructing the chain:**"
      ],
      "metadata": {
        "id": "CqNVVAM50UMh"
      }
    },
    {
      "cell_type": "code",
      "source": [
        "Zero_Shot_Tools= [\n",
        "    TavilySearchResults(max_results=1),\n",
        "    Search_hotels\n",
        "]\n",
        "\n",
        "Zero_Shot_Assistant_Runnable= Zero_Shot_Prompt | llm.bind_tools(tools=Zero_Shot_Tools)"
      ],
      "metadata": {
        "id": "7LF7ix5VOhBq"
      },
      "execution_count": 72,
      "outputs": []
    },
    {
      "cell_type": "markdown",
      "source": [
        "**Defining the graph:**"
      ],
      "metadata": {
        "id": "BCmWiCnp0oIT"
      }
    },
    {
      "cell_type": "code",
      "source": [
        "from langgraph.checkpoint.memory import MemorySaver\n",
        "from langgraph.graph import START, END, StateGraph\n",
        "from langgraph.prebuilt import tools_condition\n",
        "\n",
        "builder= StateGraph(State)\n",
        "\n",
        "builder.add_node(\"Assistant\", Zero_Shot(Zero_Shot_Assistant_Runnable))\n",
        "builder.add_node(\"tools\", tool_node_fallback(Zero_Shot_Tools))\n",
        "\n",
        "builder.add_edge(START, \"Assistant\")\n",
        "builder.add_conditional_edges(\n",
        "    \"Assistant\",\n",
        "    tools_condition\n",
        ")\n",
        "builder.add_edge(\"tools\", \"Assistant\")\n",
        "\n",
        "memory= MemorySaver()\n",
        "zero_shot_graph= builder.compile(checkpointer=memory)"
      ],
      "metadata": {
        "id": "-XjXWf1xvp4c"
      },
      "execution_count": 73,
      "outputs": []
    },
    {
      "cell_type": "code",
      "source": [
        "from IPython.display import display, Image\n",
        "display(Image(zero_shot_graph.get_graph().draw_mermaid_png()))"
      ],
      "metadata": {
        "colab": {
          "base_uri": "https://localhost:8080/",
          "height": 266
        },
        "id": "bY2w-w-z2Kon",
        "outputId": "aaa44b77-894f-49cf-e017-b61ef33eab5f"
      },
      "execution_count": 74,
      "outputs": [
        {
          "output_type": "display_data",
          "data": {
            "image/jpeg": "[encoded data removed]",
            "text/plain": [
              "<IPython.core.display.Image object>"
            ]
          },
          "metadata": {}
        }
      ]
    },
    {
      "cell_type": "markdown",
      "source": [
        "**Example conversation:**"
      ],
      "metadata": {
        "id": "74otskJC2jPJ"
      }
    },
    {
      "cell_type": "code",
      "source": [
        "import uuid\n",
        "thread_id = str(uuid.uuid4())\n",
        "\n",
        "config = {\n",
        "    \"configurable\": {\n",
        "        \"Reviewer_Nationality\": \"Germany\",\n",
        "        \"thread_id\": thread_id,\n",
        "    }\n",
        "}\n",
        "\n",
        "questions= [\n",
        "    \"Can you recommend me some hotels in Paris?\"\n",
        "    \"I'd like somewhere suitable for buisness\",\n",
        "    \"Can you recommend somewhere with a score greater than 8?\"\n",
        "]"
      ],
      "metadata": {
        "id": "V0m7vZnI2cIR"
      },
      "execution_count": 75,
      "outputs": []
    },
    {
      "cell_type": "code",
      "source": [
        "_printed = set()\n",
        "for question in questions:\n",
        "    events = zero_shot_graph.stream(\n",
        "        {\"messages\": (\"user\", question)}, config, stream_mode=\"values\"\n",
        "    )\n",
        "    for event in events:\n",
        "        _print_event(event, _printed)"
      ],
      "metadata": {
        "colab": {
          "base_uri": "https://localhost:8080/"
        },
        "id": "yocFIgYgDTTx",
        "outputId": "30309fa0-1a28-4c6a-dea8-f752bde308ac"
      },
      "execution_count": 76,
      "outputs": [
        {
          "output_type": "stream",
          "name": "stdout",
          "text": [
            "================================\u001b[1m Human Message \u001b[0m=================================\n",
            "\n",
            "Can you recommend me some hotels in Paris?I'd like somewhere suitable for buisness\n",
            "==================================\u001b[1m Ai Message \u001b[0m==================================\n",
            "Tool Calls:\n",
            "  Search_hotels (call_PixETxC3xUYCakN1uzMjUFHg)\n",
            " Call ID: call_PixETxC3xUYCakN1uzMjUFHg\n",
            "  Args:\n",
            "    Tag: business\n",
            "=================================\u001b[1m Tool Message \u001b[0m=================================\n",
            "Name: Search_hotels\n",
            "\n",
            "[]\n",
            "==================================\u001b[1m Ai Message \u001b[0m==================================\n",
            "\n",
            "I couldn't find any specific hotels in Paris suitable for business according to the current search. However, Paris is a hub for business travelers, and there are many hotels that cater to business needs. Would you like me to broaden the search to include more options or provide recommendations for popular business hotels in Paris?\n",
            "================================\u001b[1m Human Message \u001b[0m=================================\n",
            "\n",
            "Can you recommend somewhere with a score greater than 8?\n",
            "==================================\u001b[1m Ai Message \u001b[0m==================================\n",
            "Tool Calls:\n",
            "  Search_hotels (call_rut9ocLThIyxyqWceUtEsTvS)\n",
            " Call ID: call_rut9ocLThIyxyqWceUtEsTvS\n",
            "  Args:\n",
            "    Avg_score: 8\n",
            "=================================\u001b[1m Tool Message \u001b[0m=================================\n",
            "Name: Search_hotels\n",
            "\n",
            "[{\"Hotel_Name\": \"Monsieur Cadet Hotel Spa Ex Meyerhold Spa \", \"Hotel_Address\": \"4 rue Cadet 9th arr 75009 Paris France\", \"Average_Score\": 8.7, \"Tags\": \"[' Leisure trip ', ' Family with young children ', ' Superior Double Room with Free Access to Steam Bath ', ' Stayed 3 nights ']\"}, {\"Hotel_Name\": \"Monsieur Cadet Hotel Spa Ex Meyerhold Spa \", \"Hotel_Address\": \"4 rue Cadet 9th arr 75009 Paris France\", \"Average_Score\": 8.7, \"Tags\": \"[' Business trip ', ' Solo traveler ', ' Superior Double Room with Free Access to Steam Bath ', ' Stayed 7 nights ']\"}, {\"Hotel_Name\": \"Monsieur Cadet Hotel Spa Ex Meyerhold Spa \", \"Hotel_Address\": \"4 rue Cadet 9th arr 75009 Paris France\", \"Average_Score\": 8.7, \"Tags\": \"[' Leisure trip ', ' Couple ', ' Superior Double Room with Free Access to Steam Bath ', ' Stayed 3 nights ', ' Submitted from a mobile device ']\"}, {\"Hotel_Name\": \"Monsieur Cadet Hotel Spa Ex Meyerhold Spa \", \"Hotel_Address\": \"4 rue Cadet 9th arr 75009 Paris France\", \"Average_Score\": 8.7, \"Tags\": \"[' Leisure trip ', ' Couple ', ' Junior Suite With Free Access to Steam Bath ', ' Stayed 5 nights ']\"}, {\"Hotel_Name\": \"Monsieur Cadet Hotel Spa Ex Meyerhold Spa \", \"Hotel_Address\": \"4 rue Cadet 9th arr 75009 Paris France\", \"Average_Score\": 8.7, \"Tags\": \"[' Business trip ', ' Solo traveler ', ' Superior Double Room with Free Access to Steam Bath ', ' Stayed 1 night ']\"}, {\"Hotel_Nam ... (truncated)\n",
            "==================================\u001b[1m Ai Message \u001b[0m==================================\n",
            "\n",
            "I found a hotel in Paris with a score greater than 8 that is suitable for business travelers:\n",
            "\n",
            "- **Hotel Name:** Monsieur Cadet Hotel Spa Ex Meyerhold Spa\n",
            "- **Address:** 4 rue Cadet 9th arr 75009 Paris, France\n",
            "- **Average Score:** 8.7\n",
            "- **Tags:** Business trip, Solo traveler, Superior Double Room with Free Access to Steam Bath\n",
            "\n",
            "This hotel seems to meet your criteria for a business-friendly stay in Paris. Let me know if you need more information or assistance with booking.\n"
          ]
        }
      ]
    }
  ]
}